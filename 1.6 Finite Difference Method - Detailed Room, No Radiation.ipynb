{
 "cells": [
  {
   "cell_type": "markdown",
   "metadata": {},
   "source": [
    "# 1.6 Finite Difference Method - Detailed Room, No Radiation"
   ]
  },
  {
   "cell_type": "markdown",
   "metadata": {},
   "source": [
    "Prepared by (C) Vasken Dermardiros"
   ]
  },
  {
   "cell_type": "markdown",
   "metadata": {},
   "source": [
    "WORK IN PROGRESS!"
   ]
  },
  {
   "cell_type": "markdown",
   "metadata": {},
   "source": [
    "## Model Description\n",
    "A small office 4 m wide x 4 m deep x 3.2 m high.\n",
    "The facade has a 1.2 m high window 0.8 m from the floor. The rest of the facade\n",
    "is opaque. The window covers the whole width of the wall.\n",
    "\n",
    "The inside side walls are interconnected since the office is assumed to be\n",
    "among an array of self similar offices.\n",
    "\n",
    "Gypsum all around, except on the floor.\n",
    "\n",
    "Full radiation is NOT considered.\n",
    "\n",
    "------------\n",
    "## FDM Implementation\n",
    "### Load Dependencies"
   ]
  },
  {
   "cell_type": "code",
   "execution_count": 1,
   "metadata": {
    "collapsed": false
   },
   "outputs": [],
   "source": [
    "import numpy as np\n",
    "import matplotlib.pylab as plt\n",
    "import matplotlib as mpl\n",
    "# Plot in notebook; comment out the line below for windowed plots\n",
    "%matplotlib inline\n",
    "# mpl.rc('figure', figsize=(10, 10))"
   ]
  },
  {
   "cell_type": "markdown",
   "metadata": {},
   "source": [
    "### Variable Names\n",
    " U: Conductance matrix (symmetrical) with added capacitance for diagonal term  \n",
    " C: Capacitance vector  \n",
    " F: Conductance vector of nodes connected to a known temperature source  \n",
    " T: Temperature vector  \n",
    " Qin: Heat flow, only external sources, (nN x 1) (W)  \n",
    " Q: Heat flow vector + external sources + capacitance from previous timestep (implicit only), (nN x 1) (W)  \n",
    " nN: Number of nodes  \n",
    " nM: number of nodes with known temperature sources  \n",
    " VF: View factor matrix; values only for room side surface  \n",
    " *Node that indexing starts at \"0\" in python (not \"1\" like in Matlab)  \n",
    "\n",
    "Node Number: Surface  \n",
    " 0: left surface  \n",
    " 1: right surface  \n",
    " 2: back surface  \n",
    " 3: front wall, top -> opaque  \n",
    " 4: front wall, middle -> transparent  \n",
    " 5: front wall, bottom -> opaque  \n",
    " 6: floor surface  \n",
    " 7: ceiling surface  \n",
    " 8: air node  \n",
    " 9: side inside; node connected to left and right surfaces  \n",
    " 10: ceiling inside; behind of this layer considered adiabatic  \n",
    " 11: back inside; behind of this layer considered adiabatic  \n",
    " 12: middle window, outside pane  \n",
    "\n",
    "Node Number with known temperatures: Object  \n",
    " 0: Outside, ambient temperature  \n",
    " 1: Floor surface temperature; connected to node 6 via 10000 W/m2K conductor  \n",
    "    Change conductance if there is an actual floor covering (linoleum, carpet)  "
   ]
  },
  {
   "cell_type": "code",
   "execution_count": 2,
   "metadata": {
    "collapsed": false
   },
   "outputs": [],
   "source": [
    "# Geometry and other properties\n",
    "A_sid = 3.2*4.0\n",
    "A_cei = 4.0*4.0\n",
    "A_bck = 3.2*4.0\n",
    "A_ftp = 1.2*4.0\n",
    "A_ftm = 1.2*4.0\n",
    "A_fbt = 0.8*4.0\n",
    "A = np.array([A_sid, A_sid, A_bck, A_ftp, A_ftm, A_fbt, A_cei, A_cei, 0,\n",
    "              A_sid, A_cei, A_bck, A_ftm])\n",
    "Vol = 3.2*4.0*4.0\n",
    "\n",
    "# ASHRAE values; h-values are convection, conduction and radiation combined\n",
    "h_out = 34.     # W/m^2K\n",
    "h_int = 5.      # W/m^2K\n",
    "h_gap_conv = 1.50\n",
    "\n",
    "# Material properties\n",
    "# Gypsum\n",
    "k_gyps = 0.810       # W/(m*K)\n",
    "rho_gyps = 1680      # kg/m^3\n",
    "Cp_gyps = 840        # J/(kg*K) where J = kgm^2/s^2\n",
    "dx_gyps = 0.0125     # m, 1 layer of gympsum 12.5 mm total (1/2\"), 1 node\n",
    "\n",
    "# Air\n",
    "# k_air = 0.0255       # W/(m*K)\n",
    "rho_air = 1.184      # kg/m^3\n",
    "Cp_air = 1006        # J/(kg*K)\n",
    "multi = 20.          # Mass multiplier\n",
    "\n",
    "# Facade\n",
    "R_curt = 3.          # m^2K/W\n",
    "\n",
    "# Infiltration\n",
    "ACH = 0.2\n",
    "\n",
    "# Simulation control\n",
    "nN = 13\n",
    "nM = 2"
   ]
  },
  {
   "cell_type": "markdown",
   "metadata": {},
   "source": [
    "### Simulation Parameters"
   ]
  },
  {
   "cell_type": "code",
   "execution_count": 3,
   "metadata": {
    "collapsed": false
   },
   "outputs": [],
   "source": [
    "st = 4          # steps per hour\n",
    "H = 24          # hr; number of hours simulated\n",
    "nt = int(st*H)  # number of timesteps-1\n",
    "dt = 3600/st    # s (3600 sec = 1 hour)\n",
    "days = 10       # number of days simulated"
   ]
  },
  {
   "cell_type": "markdown",
   "metadata": {},
   "source": [
    "### Nodal Connections"
   ]
  },
  {
   "cell_type": "code",
   "execution_count": 4,
   "metadata": {
    "collapsed": false
   },
   "outputs": [],
   "source": [
    "# Declare variables\n",
    "Uin = np.zeros((nN,nN))     # K/W\n",
    "F = np.zeros((nN,nM))       # K/W\n",
    "C = np.zeros((nN,1))        # J/K\n",
    "\n",
    "# Connected to air node\n",
    "for i in range(8):\n",
    "    Uin[i,8] = (1/(h_int*A[i]))**-1\n",
    "# Side walls\n",
    "Uin[0,9] = (dx_gyps/(k_gyps*A[0]))**-1\n",
    "Uin[1,9] = (dx_gyps/(k_gyps*A[1]))**-1\n",
    "# Ceiling\n",
    "Uin[7,10] = (dx_gyps/(2*k_gyps*A[7]))**-1\n",
    "# Back wall\n",
    "Uin[2,11] = (dx_gyps/(2*k_gyps*A[2]))**-1\n",
    "# Window, middle\n",
    "Uin[4,12] = (1/(h_gap_conv*A[4]))**-1\n",
    "\n",
    "# Connected to temperature sources\n",
    "F[3,0] = (1/(h_out*A[3]) + R_curt/A[3])**-1\n",
    "F[5,0] = (1/(h_out*A[5]) + R_curt/A[5])**-1\n",
    "F[8,0] = ACH*Vol*rho_air*Cp_air/3600\n",
    "F[12,0] = (1/(h_out*A[12]))**-1\n",
    "F[6,1] = 1.*A[6]/0.005          # 5 mm topping\n",
    "\n",
    "# Nodes with capacitance\n",
    "C[8] = rho_air*Cp_air*(Vol*multi)\n",
    "C[9] = rho_gyps*Cp_gyps*(2*dx_gyps*A[9])\n",
    "C[10] = rho_gyps*Cp_gyps*(dx_gyps*A[10])\n",
    "C[11] = rho_gyps*Cp_gyps*(dx_gyps*A[11])"
   ]
  },
  {
   "cell_type": "markdown",
   "metadata": {},
   "source": [
    "### Temperatures and Known Temperatures"
   ]
  },
  {
   "cell_type": "code",
   "execution_count": 5,
   "metadata": {
    "collapsed": false
   },
   "outputs": [],
   "source": [
    "# Declare variables\n",
    "T = np.zeros((nt*days, nN))    # degC\n",
    "TK = np.zeros((nt*days, nM))   # degC"
   ]
  },
  {
   "cell_type": "code",
   "execution_count": 6,
   "metadata": {
    "collapsed": false
   },
   "outputs": [
    {
     "data": {
      "image/png": "[encoded data removed]",
      "text/plain": [
       "<matplotlib.figure.Figure at 0x7fa84862f090>"
      ]
     },
     "metadata": {},
     "output_type": "display_data"
    }
   ],
   "source": [
    "# Plot known temperature sources\n",
    "fig = plt.figure()\n",
    "plt.plot(TK)\n",
    "labels = ['TK' + str(n) for n in range(nM)]\n",
    "plt.legend(labels,loc='best', fontsize='medium')\n",
    "plt.xlabel('Timesteps')\n",
    "plt.ylabel('Temperature, degC')\n",
    "plt.title('Known (Set) Temperature Sources')\n",
    "plt.grid()\n",
    "plt.show()"
   ]
  },
  {
   "cell_type": "markdown",
   "metadata": {},
   "source": [
    "### Initial Conditions"
   ]
  },
  {
   "cell_type": "code",
   "execution_count": 7,
   "metadata": {
    "collapsed": true
   },
   "outputs": [],
   "source": [
    "T[0,] = 10.      # all temperatures set to 10 degC"
   ]
  },
  {
   "cell_type": "markdown",
   "metadata": {},
   "source": [
    "------------\n",
    "## Run Simulation, Free Float (Implicit Scheme)"
   ]
  },
  {
   "cell_type": "markdown",
   "metadata": {},
   "source": [
    "### U-matrix completion"
   ]
  },
  {
   "cell_type": "code",
   "execution_count": 8,
   "metadata": {
    "collapsed": false
   },
   "outputs": [],
   "source": [
    "# Here, we complete the connections due to symmetry \n",
    "# Node 0 is connected to node 1; also, node 1 is connected to node 0.\n",
    "U = -Uin - Uin.T  # U is symmetrical, non-diagonals are -ve\n",
    "s = -np.sum(U,1)\n",
    "for i in range(0,nN):\n",
    "    U[i,i] = s[i] + np.sum(F[i,]) + C[i]/dt\n",
    "del s"
   ]
  },
  {
   "cell_type": "markdown",
   "metadata": {},
   "source": [
    "### Main Loop"
   ]
  },
  {
   "cell_type": "code",
   "execution_count": 9,
   "metadata": {
    "collapsed": false
   },
   "outputs": [],
   "source": [
    "# Loop for number of days, and for all timesteps in a day\n",
    "for d in range(0,days):\n",
    "    for t in range(0,nt):\n",
    "        \n",
    "        # Heat flow into the node, external sources\n",
    "        Qin = np.zeros((nN,1))\n",
    "        # Qin[1] = q_in[t]\n",
    "\n",
    "        # Q-vector: Q = Qin + F*TM(t) + C/dt*T(t)\n",
    "        Q = Qin + np.reshape(np.dot(F, TK[d*nt+t,]),(nN,1)) + \\\n",
    "        np.multiply(C/dt, np.reshape(T[d*nt+t,:],(nN,1)))\n",
    "\n",
    "        # Compute temperature\n",
    "        # This is where the magic happens. For a system where nothing changes \n",
    "        # (no controls, no moveable blinds, no PCM; we need only define the \n",
    "        # U-matrix once (done above) and use it here)\n",
    "        if (days*nt) > (d*nt+t+1):\n",
    "            T[d*nt+t+1,] = np.linalg.solve(U,Q).T"
   ]
  },
  {
   "cell_type": "markdown",
   "metadata": {},
   "source": [
    "### Plotting"
   ]
  },
  {
   "cell_type": "code",
   "execution_count": 10,
   "metadata": {
    "collapsed": false,
    "scrolled": true
   },
   "outputs": [
    {
     "data": {
      "image/png": "[encoded data removed]",
      "text/plain": [
       "<matplotlib.figure.Figure at 0x7fa820ae47d0>"
      ]
     },
     "metadata": {},
     "output_type": "display_data"
    }
   ],
   "source": [
    "fig = plt.figure()\n",
    "ax = fig.add_subplot(1,1,1)\n",
    "plt.hold(True)\n",
    "plotT = T[(days-1)*nt:(days)*nt:]\n",
    "plt.plot(np.dot(dt/3600.,range(0,nt)),plotT)\n",
    "plotTK = TK[(days-1)*nt:(days)*nt:]\n",
    "plt.plot(np.dot(dt/3600.,range(0,nt)),plotTK,'k--')\n",
    "plt.xlim([0,24])\n",
    "ax.set_xticks(np.arange(0,25,3))\n",
    "plt.legend(['Room Air','Ambient'],loc='best')\n",
    "plt.xlabel('Time, h')\n",
    "plt.ylabel('Temperature, degC')\n",
    "plt.title('Temperature Distribution on Day %s' %(days))\n",
    "plt.grid()\n",
    "plt.show()"
   ]
  },
  {
   "cell_type": "markdown",
   "metadata": {},
   "source": [
    "------------\n",
    "## Run Simulation, with Heating and Cooling, Proportional Controls (Implicit Scheme)"
   ]
  },
  {
   "cell_type": "code",
   "execution_count": 11,
   "metadata": {
    "collapsed": true
   },
   "outputs": [],
   "source": [
    "# Heating and cooling system\n",
    "q_reqd = np.zeros((nt*days, 1)) # heating/cooling supplied to air node\n",
    "T_Setpoint = 21.            # degC, Setpoint temperature\n",
    "Kp = 100.                   # Proportionality constant\n",
    "capacity = 1000.            # W, heating / cooling maximum capacity"
   ]
  },
  {
   "cell_type": "code",
   "execution_count": 12,
   "metadata": {
    "collapsed": false
   },
   "outputs": [
    {
     "ename": "ValueError",
     "evalue": "could not broadcast input array from shape (13) into shape (1)",
     "output_type": "error",
     "traceback": [
      "\u001b[1;31m---------------------------------------------------------------------------\u001b[0m",
      "\u001b[1;31mValueError\u001b[0m                                Traceback (most recent call last)",
      "\u001b[1;32m<ipython-input-12-7cdac0f0ec80>\u001b[0m in \u001b[0;36m<module>\u001b[1;34m()\u001b[0m\n\u001b[0;32m      6\u001b[0m         \u001b[0mQin\u001b[0m \u001b[1;33m=\u001b[0m \u001b[0mnp\u001b[0m\u001b[1;33m.\u001b[0m\u001b[0mzeros\u001b[0m\u001b[1;33m(\u001b[0m\u001b[1;33m(\u001b[0m\u001b[0mnN\u001b[0m\u001b[1;33m,\u001b[0m\u001b[1;36m1\u001b[0m\u001b[1;33m)\u001b[0m\u001b[1;33m)\u001b[0m\u001b[1;33m\u001b[0m\u001b[0m\n\u001b[0;32m      7\u001b[0m         \u001b[1;31m# Calculate the heating/cooling power required based on the previous temperature\u001b[0m\u001b[1;33m\u001b[0m\u001b[1;33m\u001b[0m\u001b[0m\n\u001b[1;32m----> 8\u001b[1;33m         \u001b[0mq_reqd\u001b[0m\u001b[1;33m[\u001b[0m\u001b[0md\u001b[0m\u001b[1;33m*\u001b[0m\u001b[0mnt\u001b[0m\u001b[1;33m+\u001b[0m\u001b[0mt\u001b[0m\u001b[1;33m]\u001b[0m \u001b[1;33m=\u001b[0m \u001b[0mKp\u001b[0m\u001b[1;33m*\u001b[0m\u001b[1;33m(\u001b[0m\u001b[0mT_Setpoint\u001b[0m \u001b[1;33m-\u001b[0m \u001b[0mT\u001b[0m\u001b[1;33m[\u001b[0m\u001b[0md\u001b[0m\u001b[1;33m*\u001b[0m\u001b[0mnt\u001b[0m\u001b[1;33m+\u001b[0m\u001b[0mt\u001b[0m\u001b[1;33m,\u001b[0m\u001b[1;33m]\u001b[0m\u001b[1;33m)\u001b[0m \u001b[1;31m# +ve = heating\u001b[0m\u001b[1;33m\u001b[0m\u001b[0m\n\u001b[0m\u001b[0;32m      9\u001b[0m         \u001b[1;32mif\u001b[0m \u001b[1;33m(\u001b[0m\u001b[0mq_reqd\u001b[0m\u001b[1;33m[\u001b[0m\u001b[0md\u001b[0m\u001b[1;33m*\u001b[0m\u001b[0mnt\u001b[0m\u001b[1;33m+\u001b[0m\u001b[0mt\u001b[0m\u001b[1;33m]\u001b[0m \u001b[1;33m>\u001b[0m \u001b[0mcapacity\u001b[0m\u001b[1;33m)\u001b[0m\u001b[1;33m:\u001b[0m  \u001b[0mq_reqd\u001b[0m\u001b[1;33m[\u001b[0m\u001b[0md\u001b[0m\u001b[1;33m*\u001b[0m\u001b[0mnt\u001b[0m\u001b[1;33m+\u001b[0m\u001b[0mt\u001b[0m\u001b[1;33m]\u001b[0m \u001b[1;33m=\u001b[0m \u001b[0mcapacity\u001b[0m\u001b[1;33m\u001b[0m\u001b[0m\n\u001b[0;32m     10\u001b[0m         \u001b[1;32mif\u001b[0m \u001b[1;33m(\u001b[0m\u001b[0mq_reqd\u001b[0m\u001b[1;33m[\u001b[0m\u001b[0md\u001b[0m\u001b[1;33m*\u001b[0m\u001b[0mnt\u001b[0m\u001b[1;33m+\u001b[0m\u001b[0mt\u001b[0m\u001b[1;33m]\u001b[0m \u001b[1;33m<\u001b[0m \u001b[1;33m-\u001b[0m\u001b[0mcapacity\u001b[0m\u001b[1;33m)\u001b[0m\u001b[1;33m:\u001b[0m \u001b[0mq_reqd\u001b[0m\u001b[1;33m[\u001b[0m\u001b[0md\u001b[0m\u001b[1;33m*\u001b[0m\u001b[0mnt\u001b[0m\u001b[1;33m+\u001b[0m\u001b[0mt\u001b[0m\u001b[1;33m]\u001b[0m \u001b[1;33m=\u001b[0m \u001b[1;33m-\u001b[0m\u001b[0mcapacity\u001b[0m\u001b[1;33m\u001b[0m\u001b[0m\n",
      "\u001b[1;31mValueError\u001b[0m: could not broadcast input array from shape (13) into shape (1)"
     ]
    }
   ],
   "source": [
    "# Loop for number of days, and for all timesteps in a day\n",
    "for d in range(0,days):\n",
    "    for t in range(0,nt):\n",
    "        \n",
    "        # Heat flow into the node, external sources\n",
    "        Qin = np.zeros((nN,1))\n",
    "        # Calculate the heating/cooling power required based on the previous temperature\n",
    "        q_reqd[d*nt+t] = Kp*(T_Setpoint - T[d*nt+t,]) # +ve = heating\n",
    "        if (q_reqd[d*nt+t] > capacity):  q_reqd[d*nt+t] = capacity\n",
    "        if (q_reqd[d*nt+t] < -capacity): q_reqd[d*nt+t] = -capacity\n",
    "        Qin[0] = q_reqd[d*nt+t]\n",
    "\n",
    "        # Q-vector: Q = Qin + F*TM(t) + C/dt*T(t)\n",
    "        Q = Qin + np.reshape(np.dot(F, TK[d*nt+t,]),(nN,1)) + \\\n",
    "        np.multiply(C/dt, np.reshape(T[d*nt+t,:],(nN,1)))\n",
    "\n",
    "        # Compute temperature\n",
    "        # This is where the magic happens. For a system where nothing changes \n",
    "        # (no controls, no moveable blinds, no PCM; we need only define the \n",
    "        # U-matrix once (done above) and use it here)\n",
    "        if (days*nt) > (d*nt+t+1):\n",
    "            T[d*nt+t+1,] = np.linalg.solve(U,Q).T"
   ]
  },
  {
   "cell_type": "markdown",
   "metadata": {},
   "source": [
    "### Plotting"
   ]
  },
  {
   "cell_type": "code",
   "execution_count": null,
   "metadata": {
    "collapsed": false,
    "scrolled": true
   },
   "outputs": [],
   "source": [
    "plt.plot(q_reqd,'r')\n",
    "plt.xlabel('Timesteps')\n",
    "plt.ylabel('Power, W')\n",
    "plt.title('Supplied Heating or Cooling')\n",
    "plt.grid()\n",
    "plt.show()"
   ]
  },
  {
   "cell_type": "markdown",
   "metadata": {},
   "source": [
    "We can see that the system is oscillating to try to maintain the setpoint. In smaller systems, typically the heater has one (or a small discrete number of) setting and will toggle on and off continuously. For some components, this actuation can lead to premature failure and should be avoided. In the following section, we will look at how a typical small system behaves."
   ]
  },
  {
   "cell_type": "code",
   "execution_count": null,
   "metadata": {
    "collapsed": false,
    "scrolled": false
   },
   "outputs": [],
   "source": [
    "fig = plt.figure()\n",
    "ax = fig.add_subplot(1,1,1)\n",
    "plt.hold(True)\n",
    "plotT = T[(days-1)*nt:(days)*nt:]\n",
    "plt.plot(np.dot(dt/3600.,range(0,nt)),plotT)\n",
    "plotTK = TK[(days-1)*nt:(days)*nt:]\n",
    "plt.plot(np.dot(dt/3600.,range(0,nt)),plotTK,'k--')\n",
    "plt.xlim([0,24])\n",
    "ax.set_xticks(np.arange(0,25,3))\n",
    "plt.legend(['Room Air','Ambient'],loc='best')\n",
    "plt.xlabel('Time, h')\n",
    "plt.ylabel('Temperature, degC')\n",
    "plt.title('Temperature Distribution on Day %s' %(days))\n",
    "plt.grid()\n",
    "plt.show()"
   ]
  },
  {
   "cell_type": "markdown",
   "metadata": {},
   "source": [
    "As we can see above, with certain control parameters, the room air temperature comes quite close to our desired set point, however, there is a bias of around 1 degrees. To remedy the problem, an integral term should be added to the controller -- to obtain a PI controller."
   ]
  },
  {
   "cell_type": "markdown",
   "metadata": {},
   "source": [
    "------------\n",
    "## Run Simulation, Setpoints with  Deadband, Bang-Bang Controls\n",
    "In this section, we will be looking at Bang-Bang controls (on/off). When the temperature drops below the setpoint, the heater is turned on, when it passes the deadband, it's turned off. If the room temperature passes the cooling setpoint, the chiller is turned on."
   ]
  },
  {
   "cell_type": "code",
   "execution_count": null,
   "metadata": {
    "collapsed": true
   },
   "outputs": [],
   "source": [
    "# Heating and cooling system, bang-bang controls\n",
    "q_reqd = np.zeros((nt*days, 1)) # heating/cooling supplied to air node\n",
    "T_Setpoint_Heating = 21.*np.ones((nt*days, 1)) # degC, Heating setpoint temperature\n",
    "T_Setpoint_Cooling = 24.*np.ones((nt*days, 1)) # degC, Heating setpoint temperature\n",
    "deadband = 1.\n",
    "capacity = 500.            # W, heating / cooling maximum capacity\n",
    "heater_on = False           # heating system toggle\n",
    "cooler_on = False           # cooling system toggle"
   ]
  },
  {
   "cell_type": "code",
   "execution_count": null,
   "metadata": {
    "collapsed": true
   },
   "outputs": [],
   "source": [
    "# Loop for number of days, and for all timesteps in a day\n",
    "for d in range(0,days):\n",
    "    for t in range(0,nt):\n",
    "        \n",
    "        # Heat flow into the node, external sources\n",
    "        Qin = np.zeros((nN,1))\n",
    "        # Determine if room temperature is below heating setpoint or above cooling setpoint\n",
    "        # Based on the previous temperatures. If the current one is needed, this loop should\n",
    "        # be iterated.\n",
    "        if (T[d*nt+t,] < T_Setpoint_Heating[d*nt+t]): heater_on = True\n",
    "        if (T[d*nt+t,] > T_Setpoint_Cooling[d*nt+t]): cooler_on = True\n",
    "        # If heater is on and passes the setpoint + deadband, turn it off\n",
    "        if (T[d*nt+t,] > T_Setpoint_Heating[d*nt+t]+deadband and heater_on == True): heater_on = False\n",
    "        if (T[d*nt+t,] < T_Setpoint_Cooling[d*nt+t]-deadband and cooler_on == True): cooler_on = False\n",
    "        q_reqd[d*nt+t] = (heater_on - cooler_on)*capacity\n",
    "        Qin[0] = q_reqd[d*nt+t]\n",
    "\n",
    "        # Q-vector: Q = Qin + F*TM(t) + C/dt*T(t)\n",
    "        Q = Qin + np.reshape(np.dot(F, TK[d*nt+t,]),(nN,1)) + \\\n",
    "        np.multiply(C/dt, np.reshape(T[d*nt+t,:],(nN,1)))\n",
    "\n",
    "        # Compute temperature\n",
    "        # This is where the magic happens. For a system where nothing changes \n",
    "        # (no controls, no moveable blinds, no PCM; we need only define the \n",
    "        # U-matrix once (done above) and use it here)\n",
    "        if (days*nt) > (d*nt+t+1):\n",
    "            T[d*nt+t+1,] = np.linalg.solve(U,Q).T"
   ]
  },
  {
   "cell_type": "markdown",
   "metadata": {},
   "source": [
    "### Plotting"
   ]
  },
  {
   "cell_type": "code",
   "execution_count": null,
   "metadata": {
    "collapsed": false,
    "scrolled": true
   },
   "outputs": [],
   "source": [
    "plt.plot(q_reqd,'r')\n",
    "plt.xlabel('Timesteps')\n",
    "plt.ylabel('Power, W')\n",
    "plt.title('Supplied Heating or Cooling')\n",
    "plt.grid()\n",
    "plt.show()"
   ]
  },
  {
   "cell_type": "markdown",
   "metadata": {},
   "source": [
    "Look at that! Typical. The room temperature slowly decays, the heater turns on full blast, heats up the room quickly and turns off. Then, the room temperature slowly decays. By changing the deadband temperature, we can reduce the cycling of the heater, but we may end up in larger temperature swings."
   ]
  },
  {
   "cell_type": "code",
   "execution_count": null,
   "metadata": {
    "collapsed": false,
    "scrolled": false
   },
   "outputs": [],
   "source": [
    "fig = plt.figure()\n",
    "ax = fig.add_subplot(1,1,1)\n",
    "plt.hold(True)\n",
    "plotT = T[(days-1)*nt:(days)*nt:]\n",
    "plt.plot(T_Setpoint_Heating,'r--')\n",
    "plt.plot(T_Setpoint_Cooling,'b--')\n",
    "plt.plot(np.dot(dt/3600.,range(0,nt)),plotT)\n",
    "plotTK = TK[(days-1)*nt:(days)*nt:]\n",
    "plt.plot(np.dot(dt/3600.,range(0,nt)),plotTK,'k--')\n",
    "plt.xlim([0,24])\n",
    "ax.set_xticks(np.arange(0,25,3))\n",
    "plt.legend(['Heating SP','Cooling SP','Room Air','Ambient'],loc='best')\n",
    "plt.xlabel('Time, h')\n",
    "plt.ylabel('Temperature, degC')\n",
    "plt.title('Temperature Distribution on Day %s' %(days))\n",
    "plt.grid()\n",
    "plt.show()"
   ]
  },
  {
   "cell_type": "markdown",
   "metadata": {},
   "source": [
    "------------\n",
    "## Run Simulation, Setpoints with  Night Time Setback, Ramped Change, Proportional Controls\n",
    "In this section, we will be looking at proportional controls using night time setback. In offices and some residential buildings, when there are no occupants, the interior temperature is allowed to swing in a wider range. However, when occupants are expected to come back, the allowed range is narrowed.\n",
    "\n",
    "In this example, the occupied range will be 21 to 24°C whereas the unoccupied range will be 17 to 28°C.\n",
    "\n",
    "Try modifying the *ramp_dur* variable and see how it affects the peak heating or cooling demand. You may also need to shorten the simulation timestep to something more representative of the time it takes to actuate the heating or cooling systems."
   ]
  },
  {
   "cell_type": "code",
   "execution_count": null,
   "metadata": {
    "collapsed": true
   },
   "outputs": [],
   "source": [
    "q_reqd = np.zeros((nt*days, 1)) # heating/cooling supplied to air node\n",
    "capacity = 1000.                # W, heating / cooling maximum capacity\n",
    "Kp = capacity/0.5\n",
    "\n",
    "# Temperature setpoint, using linear ramps\n",
    "# Heating\n",
    "T_SP = np.zeros((nt,1))         # degC; Interior temperature setpoint per timestep Heating\n",
    "T_SP_day = 21.                  # daytime setpoint to maintain\n",
    "T_SP_dT = 4.                    # setback amount\n",
    "setback_beg = 18.               # setback beginning time (occupancy departure)\n",
    "setback_end = 6.                # setback end time (occupancy arrival)\n",
    "ramp_dur = 2.                   # hours, ramp duration; \"0\" equals to a step change\n",
    "for t in range(0,nt):\n",
    "    time = t*dt/3600.\n",
    "    if (setback_beg <= time and time < (setback_beg+ramp_dur)):             # begin setback\n",
    "        T_SP[t] = T_SP_day - (time-setback_beg)*T_SP_dT/ramp_dur\n",
    "    elif ((setback_beg+ramp_dur) <= time or time < (setback_end-ramp_dur)): # night time\n",
    "        T_SP[t] = T_SP_day - T_SP_dT\n",
    "    elif ((setback_end-ramp_dur) <= time and time < setback_end):           # revert setback\n",
    "        T_SP[t] = T_SP_day - (setback_end-time)*T_SP_dT/ramp_dur\n",
    "    else:                                                                   # day time\n",
    "        T_SP[t] = T_SP_day\n",
    "        \n",
    "# Cooling\n",
    "T_SP_Cool = np.zeros((nt,1))    # degC; Interior temperature setpoint per timestep Cooling\n",
    "T_SP_day_Cool = 24.\n",
    "T_SP_dT_Cool = -4.             # -ve value increases temperature\n",
    "setback_beg_Cool = 18.\n",
    "setback_end_Cool = 6.\n",
    "ramp_dur_Cool = 2.             # hours, ramp duration; \"0\" equals to a step change\n",
    "for t in range(0,nt):\n",
    "    time = t*dt/3600.\n",
    "    if (setback_beg_Cool <= time and time < (setback_beg_Cool+ramp_dur_Cool)):                  # begin setback\n",
    "        T_SP_Cool[t] = T_SP_day_Cool - (time-setback_beg_Cool)*T_SP_dT_Cool/ramp_dur_Cool\n",
    "    elif ((setback_beg_Cool+ramp_dur_Cool) <= time or time < (setback_end_Cool-ramp_dur_Cool)): # night time\n",
    "        T_SP_Cool[t] = T_SP_day_Cool - T_SP_dT_Cool\n",
    "    elif ((setback_end_Cool-ramp_dur_Cool) <= time and time < setback_end_Cool):                # revert setback\n",
    "        T_SP_Cool[t] = T_SP_day_Cool - (setback_end_Cool-time)*T_SP_dT_Cool/ramp_dur_Cool\n",
    "    else:                                                                                       # day time\n",
    "        T_SP_Cool[t] = T_SP_day_Cool\n",
    "\n",
    "# Tile setpoints for every day        \n",
    "T_Setpoint_Heating = np.tile(T_SP,(days,1))\n",
    "T_Setpoint_Cooling = np.tile(T_SP_Cool,(days,1))"
   ]
  },
  {
   "cell_type": "code",
   "execution_count": null,
   "metadata": {
    "collapsed": false
   },
   "outputs": [],
   "source": [
    "fig = plt.figure()\n",
    "ax = fig.add_subplot(1,1,1)\n",
    "plt.hold(True)\n",
    "plotT_SP_Heating = T_Setpoint_Heating[(days-1)*nt:(days)*nt:]\n",
    "plotT_SP_Cooling = T_Setpoint_Cooling[(days-1)*nt:(days)*nt:]\n",
    "plt.plot(np.dot(dt/3600.,range(0,nt)),plotT_SP_Heating,'r--')\n",
    "plt.plot(np.dot(dt/3600.,range(0,nt)),plotT_SP_Cooling,'b--')\n",
    "plt.xlim([0,24])\n",
    "plt.ylim([16,29])\n",
    "ax.set_xticks(np.arange(0,25,3))\n",
    "plt.legend(['Heating SP','Cooling SP'],loc='lower center')\n",
    "plt.xlabel('Time, h')\n",
    "plt.ylabel('Temperature, degC')\n",
    "plt.title('Setpoint Temperatures')\n",
    "plt.grid()\n",
    "plt.show()"
   ]
  },
  {
   "cell_type": "code",
   "execution_count": null,
   "metadata": {
    "collapsed": false
   },
   "outputs": [],
   "source": [
    "# Loop for number of days, and for all timesteps in a day\n",
    "for d in range(0,days):\n",
    "    for t in range(0,nt):\n",
    "        \n",
    "        # Heat flow into the node, external sources\n",
    "        Qin = np.zeros((nN,1))\n",
    "        # Determine if room temperature is below heating setpoint or above cooling setpoint\n",
    "        # Auxiliary heating or cooling, P-control\n",
    "        errHeatSP = T_Setpoint_Heating[d*nt+t] - T[d*nt+t,0] # heating SP error, +ve if violated\n",
    "        errCoolSP = T[d*nt+t,0] - T_Setpoint_Cooling[d*nt+t] # cooling SP error, +ve if violated\n",
    "        err = 0.5*(abs(errHeatSP)+errHeatSP) - 0.5*(abs(errCoolSP)+errCoolSP)\n",
    "        # iTerm += Ki*SP_Err[d*nt+t]     # integral term, optional, you'll need to define \"Ki\"\n",
    "        output = Kp*err # + iTerm\n",
    "        if (output >  capacity): output =  capacity\n",
    "        if (output < -capacity): output = -capacity\n",
    "            # iTerm -= output - max_Cap\n",
    "            # output = max_Cap\n",
    "        # if output < min_Cap:  # use this if there is a minimial capacity that always needs to run\n",
    "            # iTerm += min_Cap - output\n",
    "            # output = min_Cap\n",
    "        q_reqd[d*nt+t] = output\n",
    "        Qin[0] = q_reqd[d*nt+t]\n",
    "            \n",
    "        # Q-vector: Q = Qin + F*TM(t) + C/dt*T(t)\n",
    "        Q = Qin + np.reshape(np.dot(F, TK[d*nt+t,]),(nN,1)) + \\\n",
    "        np.multiply(C/dt, np.reshape(T[d*nt+t,:],(nN,1)))\n",
    "\n",
    "        # Compute temperature\n",
    "        # This is where the magic happens. For a system where nothing changes \n",
    "        # (no controls, no moveable blinds, no PCM; we need only define the \n",
    "        # U-matrix once (done above) and use it here)\n",
    "        if (days*nt) > (d*nt+t+1):\n",
    "            T[d*nt+t+1,] = np.linalg.solve(U,Q).T"
   ]
  },
  {
   "cell_type": "markdown",
   "metadata": {},
   "source": [
    "### Plotting"
   ]
  },
  {
   "cell_type": "code",
   "execution_count": null,
   "metadata": {
    "collapsed": false,
    "scrolled": true
   },
   "outputs": [],
   "source": [
    "plt.plot(q_reqd,'r')\n",
    "plt.xlabel('Timesteps')\n",
    "plt.ylabel('Power, W')\n",
    "plt.title('Supplied Heating or Cooling')\n",
    "plt.grid()\n",
    "plt.show()\n",
    "print \"Peak power in heating: %.0f W, in cooling: %.0f W\" % \\\n",
    "        (max(q_reqd[(days-1)*nt:(days)*nt:]), min(q_reqd[(days-1)*nt:(days)*nt:]))"
   ]
  },
  {
   "cell_type": "code",
   "execution_count": null,
   "metadata": {
    "collapsed": false,
    "scrolled": false
   },
   "outputs": [],
   "source": [
    "fig = plt.figure()\n",
    "ax = fig.add_subplot(1,1,1)\n",
    "plt.hold(True)\n",
    "plotT = T[(days-1)*nt:(days)*nt:]\n",
    "plotTSPHeat = T_Setpoint_Heating[(days-1)*nt:(days)*nt:]\n",
    "plotTSPCool = T_Setpoint_Cooling[(days-1)*nt:(days)*nt:]\n",
    "plt.plot(np.dot(dt/3600.,range(0,nt)),plotTSPHeat, 'r--')\n",
    "plt.plot(np.dot(dt/3600.,range(0,nt)),plotTSPCool, 'b--')\n",
    "plt.plot(np.dot(dt/3600.,range(0,nt)),plotT)\n",
    "plotTK = TK[(days-1)*nt:(days)*nt:]\n",
    "plt.plot(np.dot(dt/3600.,range(0,nt)),plotTK,'k--')\n",
    "plt.xlim([0,24])\n",
    "ax.set_xticks(np.arange(0,25,3))\n",
    "plt.legend(['Heating SP','Cooling SP','Room Air','Ambient'],loc='best')\n",
    "plt.xlabel('Time, h')\n",
    "plt.ylabel('Temperature, degC')\n",
    "plt.title('Temperature Distribution on Day %s' %(days))\n",
    "plt.grid()\n",
    "plt.show()"
   ]
  }
 ],
 "metadata": {
  "kernelspec": {
   "display_name": "Python 2",
   "language": "python",
   "name": "python2"
  },
  "language_info": {
   "codemirror_mode": {
    "name": "ipython",
    "version": 2
   },
   "file_extension": ".py",
   "mimetype": "text/x-python",
   "name": "python",
   "nbconvert_exporter": "python",
   "pygments_lexer": "ipython2",
   "version": "2.7.12"
  }
 },
 "nbformat": 4,
 "nbformat_minor": 0
}
