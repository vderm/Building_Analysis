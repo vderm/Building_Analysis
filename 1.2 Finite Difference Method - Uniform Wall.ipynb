{
 "cells": [
  {
   "cell_type": "markdown",
   "metadata": {},
   "source": [
    "# 1.2 Finite Difference Method - Uniform Wall"
   ]
  },
  {
   "cell_type": "markdown",
   "metadata": {},
   "source": [
    "Prepared by (C) Vasken Dermardiros"
   ]
  },
  {
   "cell_type": "markdown",
   "metadata": {},
   "source": [
    "In this section, we will be looking at a very simple example of the finite difference method implementation.  \n",
    "Using the equations introduced in Chapter 1.1, we will calculate the temperature within a uniform wall using both Implicit and Explicit schemes."
   ]
  },
  {
   "cell_type": "markdown",
   "metadata": {},
   "source": [
    "## Problem Statement\n",
    "A very thick wall is subjected to an air temperature profile on one side while the other side is considered adiabatic (no heat flow).\n",
    "\n",
    "The air and wall temperatures are initialized at 10°C. After 90 days, the air temperature is increased to 40°C. 90 days after, it is decreased to -20°C. Finally, after another 90 days, the temperature is brought back to 10°C.\n",
    "\n",
    "The wall is discretized into 11 nodes. The front and back-most nodes are half as thick as the interior nodes. The air node is the only known temperature source.\n",
    "\n",
    "*** (Show picture of wall) ***"
   ]
  },
  {
   "cell_type": "markdown",
   "metadata": {},
   "source": [
    "------------\n",
    "## FDM Implementation\n",
    "### Load Dependencies"
   ]
  },
  {
   "cell_type": "code",
   "execution_count": 1,
   "metadata": {
    "collapsed": false
   },
   "outputs": [],
   "source": [
    "import numpy as np\n",
    "import matplotlib.pylab as plt\n",
    "import matplotlib as mpl\n",
    "# Plot in notebook; comment out the line below for windowed plots\n",
    "%matplotlib inline\n",
    "# mpl.rc('figure', figsize=(10, 10))"
   ]
  },
  {
   "cell_type": "markdown",
   "metadata": {},
   "source": [
    "### Variable Names\n",
    "Uin: Conductance matrix input by user, upper triangle only, (nN x nN) (W/K)  \n",
    "U: Conductance matrix (symmetrical) with added capacitance for diagonal term, (nN x nN) (W/K)  \n",
    "C: Capacitance vector, (nN x 1) (J/K)  \n",
    "F: Conductance matrix of nodes connected to a known temperature source, (nN x nM) (W/K)  \n",
    "T: Temperature vector per timestep, (nT x nN) (degC)  \n",
    "TK: Temperature vector of known temperatures per timestep, (nT x nM) (degC)  \n",
    "Qin: Heat flow, only external sources, (nN x 1) (W)  \n",
    "Q: Heat flow vector + external sources + capacitance from previous timestep (implicit only), (nN x 1) (W)  \n",
    "  \n",
    "nN: Number of nodes  \n",
    "nM: Number of nodes with known temperatures  \n",
    "nT: Number of timesteps  \n",
    "\n",
    "Node Number: Object  \n",
    "0 to 10: concrete wall, discretized; nodes 0 and 10 are half nodes  \n",
    "  \n",
    "Node Number with known temperatures: Object  \n",
    "0: ambient air  "
   ]
  },
  {
   "cell_type": "code",
   "execution_count": 2,
   "metadata": {
    "collapsed": false
   },
   "outputs": [],
   "source": [
    "# Number of nodes\n",
    "nN = 11             # 9 nodes and 2 half nodes, concrete wall\n",
    "nM = 1              # air node\n",
    "\n",
    "# Wall Properties\n",
    "A = 1.              # m^2, wall area\n",
    "thickness = 1.      # m\n",
    "dx = thickness/(nN-1)\n",
    "k_concrete = 1.731  # W/mK, concrete conductivity\n",
    "rho_concrete = 2243 # kg/m^3, concrete density\n",
    "cp_concrete = 840   # J/kgK, concrete specific heat\n",
    "\n",
    "# Air Properties\n",
    "h_conv = 20.        # W/m^2K, convective heat transfer coefficient"
   ]
  },
  {
   "cell_type": "markdown",
   "metadata": {},
   "source": [
    "### Simulation Parameters"
   ]
  },
  {
   "cell_type": "code",
   "execution_count": 3,
   "metadata": {
    "collapsed": false
   },
   "outputs": [],
   "source": [
    "st = 4          # steps per hour\n",
    "H = 360*24      # hr; number of hours simulated\n",
    "nt = int(st*H)  # number of timesteps-1\n",
    "dt = 3600/st    # s (3600 sec = 1 hour), timestep"
   ]
  },
  {
   "cell_type": "markdown",
   "metadata": {},
   "source": [
    "### Nodal Connections\n",
    "This is what differenciates the models from one another: how are the nodes connected to each other? What is the conductance in between? How much thermal capacitance do the nodes have?"
   ]
  },
  {
   "cell_type": "code",
   "execution_count": 4,
   "metadata": {
    "collapsed": false
   },
   "outputs": [],
   "source": [
    "# Declare variables\n",
    "Uin = np.zeros((nN,nN))     # K/W\n",
    "F = np.zeros((nN,nM))       # K/W\n",
    "C = np.zeros((nN,1))        # J/K\n",
    "\n",
    "# How are the nodes connected?\n",
    "Uin[0,1] = (dx/(2*k_concrete*A))**-1     # half node\n",
    "for i in range(1, nN-1):\n",
    "    Uin[i,i+1] = (dx/(k_concrete*A))**-1 # full node\n",
    "Uin[-2,-1] = (dx/(2*k_concrete*A))**-1   # half node\n",
    "\n",
    "# Connected to temperature sources\n",
    "F[0,0] = (1/(h_conv*A))**-1\n",
    "\n",
    "# Nodes with capacitance: rho*cp*volume\n",
    "C[0] = rho_concrete*cp_concrete*(dx/2*A)   # half node\n",
    "for i in range(1, nN-1):\n",
    "    C[i] = rho_concrete*cp_concrete*(dx*A) # full node\n",
    "C[-1] = rho_concrete*cp_concrete*(dx/2*A)  # half node"
   ]
  },
  {
   "cell_type": "markdown",
   "metadata": {},
   "source": [
    "### Temperatures and Known Temperatures"
   ]
  },
  {
   "cell_type": "code",
   "execution_count": 5,
   "metadata": {
    "collapsed": false
   },
   "outputs": [],
   "source": [
    "# Declare variables\n",
    "T = np.zeros((nt, nN))    # degC\n",
    "TK = np.zeros((nt, nM))   # degC\n",
    "\n",
    "# Known temperature sources\n",
    "TK[0:nt/4, 0] = 10.       # 10 degC for the first 90 days\n",
    "TK[nt/4:nt/2, 0] = 40.    # 40 degC for the next 90 days\n",
    "TK[nt/2:3*nt/4, 0] = -20. # -20 degC for the next 90 days\n",
    "TK[3*nt/4::, 0] = 10.     # 10 degC for the last 90 days"
   ]
  },
  {
   "cell_type": "code",
   "execution_count": 6,
   "metadata": {
    "collapsed": false
   },
   "outputs": [
    {
     "data": {
      "image/png": "[encoded data removed]",
      "text/plain": [
       "<matplotlib.figure.Figure at 0x7f85359c5d90>"
      ]
     },
     "metadata": {},
     "output_type": "display_data"
    }
   ],
   "source": [
    "# Plot known temperature sources\n",
    "fig = plt.figure()\n",
    "plt.plot(TK)\n",
    "labels = ['TK' + str(n) for n in range(nM)]\n",
    "plt.legend(labels,loc='best', fontsize='medium')\n",
    "plt.xlabel('Timesteps')\n",
    "plt.ylabel('Temperature, degC')\n",
    "plt.title('Known (Set) Temperature Sources')\n",
    "plt.grid()\n",
    "plt.show()"
   ]
  },
  {
   "cell_type": "markdown",
   "metadata": {},
   "source": [
    "### Initial Conditions"
   ]
  },
  {
   "cell_type": "code",
   "execution_count": 7,
   "metadata": {
    "collapsed": true
   },
   "outputs": [],
   "source": [
    "T[0,] = 10.      # all temperatures set to 10 degC"
   ]
  },
  {
   "cell_type": "markdown",
   "metadata": {},
   "source": [
    "------------\n",
    "## Run Simulation (Implicit Scheme)\n",
    "Ideally, we should be able to reuse this part of the code applying only minimal changes. For cases where materials properties change over time or due to temperature, or when controls are present, the U-matrix completion should be done within the Main Loop."
   ]
  },
  {
   "cell_type": "markdown",
   "metadata": {},
   "source": [
    "### U-matrix completion"
   ]
  },
  {
   "cell_type": "code",
   "execution_count": 8,
   "metadata": {
    "collapsed": false
   },
   "outputs": [],
   "source": [
    "# Here, we complete the connections due to symmetry \n",
    "# Node 0 is connected to node 1; also, node 1 is connected to node 0.\n",
    "U = -Uin - Uin.T  # U is symmetrical, non-diagonals are -ve\n",
    "s = -np.sum(U,1)\n",
    "for i in range(0,nN):\n",
    "    U[i,i] = s[i] + np.sum(F[i,]) + C[i]/dt\n",
    "del s"
   ]
  },
  {
   "cell_type": "markdown",
   "metadata": {},
   "source": [
    "### Main Loop"
   ]
  },
  {
   "cell_type": "code",
   "execution_count": 9,
   "metadata": {
    "collapsed": false
   },
   "outputs": [],
   "source": [
    "# Loop for all timesteps\n",
    "for t in range(0,nt-1):\n",
    "\n",
    "    # Heat flow into the node, external sources\n",
    "    Qin = np.zeros((nN,1))\n",
    "    # Qin[0] = q_in # add heat sources here\n",
    "\n",
    "    # Q-vector: Q = Qin + F*TM(t) + C/dt*T(t)\n",
    "    Q = Qin + np.reshape(np.dot(F, TK[t,]),(nN,1)) + \\\n",
    "        np.multiply(C/dt, np.reshape(T[t,],(nN,1)))\n",
    "\n",
    "    # Compute temperature\n",
    "    # This is where the magic happens. For a system where nothing changes \n",
    "    # (no controls, no moveable blinds, no PCM; we need only define the \n",
    "    # U-matrix once (done above) and use it here)\n",
    "    T[t+1,] = np.linalg.solve(U, Q).T"
   ]
  },
  {
   "cell_type": "markdown",
   "metadata": {},
   "source": [
    "### Plotting"
   ]
  },
  {
   "cell_type": "code",
   "execution_count": 10,
   "metadata": {
    "collapsed": false,
    "scrolled": true
   },
   "outputs": [
    {
     "data": {
      "image/png": "[encoded data removed]",
      "text/plain": [
       "<matplotlib.figure.Figure at 0x7f855c163710>"
      ]
     },
     "metadata": {},
     "output_type": "display_data"
    }
   ],
   "source": [
    "fig = plt.figure()\n",
    "plt.plot(T[:,-1])\n",
    "plt.hold(True)\n",
    "plt.plot(TK, '--')\n",
    "plt.legend(['Node 10', 'Air'],loc='best', fontsize='medium')\n",
    "plt.xlabel('Timestep')\n",
    "plt.ylabel('Temperature, degC')\n",
    "plt.title('Temperature at Deepest Node (Implicit)')\n",
    "plt.grid()\n",
    "plt.show()"
   ]
  },
  {
   "cell_type": "markdown",
   "metadata": {},
   "source": [
    "------------\n",
    "## Run Simulation (Explicit Scheme)"
   ]
  },
  {
   "cell_type": "code",
   "execution_count": 15,
   "metadata": {
    "collapsed": false
   },
   "outputs": [
    {
     "name": "stdout",
     "output_type": "stream",
     "text": [
      "The critical timestep is: 1361 sec, while the selected timestep is: 900 sec\n"
     ]
    }
   ],
   "source": [
    "# Calculate critical timestep; timestep <= critical timestep\n",
    "critical_dt = rho_concrete*cp_concrete*(dx/2)**2/(2*k_concrete)\n",
    "print \"The critical timestep is: %0.f sec, while the selected timestep is: %.0f sec\" %(critical_dt, dt)"
   ]
  },
  {
   "cell_type": "code",
   "execution_count": 12,
   "metadata": {
    "collapsed": false
   },
   "outputs": [],
   "source": [
    "# Declare variables\n",
    "Te = np.zeros((nt,nN))  # degC, temperatures for explicit mode\n",
    "Te[0,] = T[0,]          # initial condition set to be the same as implicit case\n",
    "\n",
    "# RHS matrix\n",
    "Ue = Uin + Uin.T\n",
    "s = -np.sum(Ue,1)\n",
    "for i in range(0,nN):\n",
    "    Ue[i,i] = s[i] - np.sum(F[i,]) + C[i]/dt\n",
    "del s\n",
    "Und = Uin + Uin.T       # Without the diagonals"
   ]
  },
  {
   "cell_type": "markdown",
   "metadata": {},
   "source": [
    "### Main Loop"
   ]
  },
  {
   "cell_type": "code",
   "execution_count": 13,
   "metadata": {
    "collapsed": false
   },
   "outputs": [],
   "source": [
    "# Loop for all timesteps in a day\n",
    "for t in range(0,nt-1):\n",
    "\n",
    "    # Heat flow into the node\n",
    "    Qin = np.zeros((nN,1))\n",
    "    # Qin[0] = q_in # add heat sources here\n",
    "\n",
    "    # Q-vector (explicit): Q = Qin + F*TM(t)\n",
    "    Q = Qin + np.reshape(np.dot(F, TK[t,]),(nN,1))\n",
    "\n",
    "    # Compute temperature\n",
    "    # This is where the magic happens. Prepare to be amazed!\n",
    "    for c in range(nN):\n",
    "\n",
    "        # Nodes with capacitance (diffusion nodes)\n",
    "        if (C[c] != 0.):\n",
    "            Te[t+1,c] = dt/C[c] * (np.dot(Ue[c,],Te[t,]) + Q[c])\n",
    "\n",
    "        # Nodes without capacitance (arithmetic nodes)\n",
    "        else:\n",
    "            Te[t+1,c] = (np.dot(Und[c,],Te[t,]) + np.dot(F[c,],TK[t,]) + Qin[c]) \\\n",
    "                        / (np.sum(Und[c,]) + np.sum(F[c,]))"
   ]
  },
  {
   "cell_type": "markdown",
   "metadata": {},
   "source": [
    "### Plotting"
   ]
  },
  {
   "cell_type": "code",
   "execution_count": 14,
   "metadata": {
    "collapsed": false,
    "scrolled": true
   },
   "outputs": [
    {
     "data": {
      "image/png": "[encoded data removed]",
      "text/plain": [
       "<matplotlib.figure.Figure at 0x7f853363eb90>"
      ]
     },
     "metadata": {},
     "output_type": "display_data"
    }
   ],
   "source": [
    "fig = plt.figure()\n",
    "plt.plot(Te[:,-1])\n",
    "plt.hold(True)\n",
    "plt.plot(TK, '--')\n",
    "plt.legend(['Node 10', 'Air'],loc='best', fontsize='medium')\n",
    "plt.xlabel('Timestep')\n",
    "plt.ylabel('Temperature, degC')\n",
    "plt.title('Temperature at Deepest Node (Explicit)')\n",
    "plt.grid()\n",
    "plt.show()"
   ]
  }
 ],
 "metadata": {
  "kernelspec": {
   "display_name": "Python 2",
   "language": "python",
   "name": "python2"
  },
  "language_info": {
   "codemirror_mode": {
    "name": "ipython",
    "version": 2
   },
   "file_extension": ".py",
   "mimetype": "text/x-python",
   "name": "python",
   "nbconvert_exporter": "python",
   "pygments_lexer": "ipython2",
   "version": "2.7.12"
  }
 },
 "nbformat": 4,
 "nbformat_minor": 0
}
