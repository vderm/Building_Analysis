{
 "cells": [
  {
   "cell_type": "markdown",
   "metadata": {},
   "source": [
    "# 1.3 Finite Difference Method - Composite Wall"
   ]
  },
  {
   "cell_type": "markdown",
   "metadata": {},
   "source": [
    "Prepared by (C) Vasken Dermardiros"
   ]
  },
  {
   "cell_type": "markdown",
   "metadata": {},
   "source": [
    "In this section, we will be looking at a composite wall. The interior and exterior conditions are fixed. The wall is initialized at a fixed temperature, but in the end, we would like to determine the heat loss to the exterior at steady state conditions.  \n",
    "Using the equations introduced in Chapter 1.1, we will calculate the temperature within a uniform wall using both Implicit and Explicit schemes."
   ]
  },
  {
   "cell_type": "markdown",
   "metadata": {},
   "source": [
    "## Problem Statement\n",
    "A composite wall is subjected to the following conditions:  \n",
    "$h_{conv,int} = 10 W/m^2K, T_{int} = 20°C$  \n",
    "$h_{conv,ext} = 30 W/m^2K, T_{ext} = -20°C$  \n",
    "\n",
    "The wall is initialized at 20°C. It consists of the following layers from outside to inside:  \n",
    "1) Exterior air film  \n",
    "2) 75 mm brick  \n",
    "3) 25 mm air gap  \n",
    "4) 15 mm plywood  \n",
    "5) 150 mm fiberglass insulation  \n",
    "6) 15 mm gypsumboard  \n",
    "7) Interior air film\n",
    "\n",
    "The material properties are given in the script."
   ]
  },
  {
   "cell_type": "markdown",
   "metadata": {},
   "source": [
    "------------\n",
    "## FDM Implementation\n",
    "### Load Dependencies"
   ]
  },
  {
   "cell_type": "code",
   "execution_count": 46,
   "metadata": {
    "collapsed": false
   },
   "outputs": [],
   "source": [
    "import numpy as np\n",
    "import matplotlib.pylab as plt\n",
    "import matplotlib as mpl\n",
    "# Plot in notebook; comment out the line below for windowed plots\n",
    "%matplotlib inline\n",
    "# mpl.rc('figure', figsize=(10, 10))"
   ]
  },
  {
   "cell_type": "markdown",
   "metadata": {},
   "source": [
    "### Variable Names\n",
    "Uin: Conductance matrix input by user, upper triangle only, (nN x nN) (W/K)  \n",
    "U: Conductance matrix (symmetrical) with added capacitance for diagonal term, (nN x nN) (W/K)  \n",
    "C: Capacitance vector, (nN x 1) (J/K)  \n",
    "F: Conductance matrix of nodes connected to a known temperature source, (nN x nM) (W/K)  \n",
    "T: Temperature vector per timestep, (nT x nN) (degC)  \n",
    "TK: Temperature vector of known temperatures per timestep, (nT x nM) (degC)  \n",
    "Qin: Heat flow, only external sources, (nN x 1) (W)  \n",
    "Q: Heat flow vector + external sources + capacitance from previous timestep (implicit only), (nN x 1) (W)  \n",
    "  \n",
    "nN: Number of nodes  \n",
    "nM: Number of nodes with known temperatures  \n",
    "nT: Number of timesteps  \n",
    "\n",
    "Node Number: Object  \n",
    "0: exterior brick half  \n",
    "1: between interior brick half & 25 mm air gap exterior side  \n",
    "2: between air gap interior side & plywood half  \n",
    "3: between plywood half & insulation  \n",
    "4: between insulation & gypsum  \n",
    "5: gypsum interior surface  \n",
    "  \n",
    "Node Number with known temperatures: Object  \n",
    "0: exterior air  \n",
    "1: interior air"
   ]
  },
  {
   "cell_type": "code",
   "execution_count": 47,
   "metadata": {
    "collapsed": false
   },
   "outputs": [],
   "source": [
    "# Number of nodes\n",
    "nN = 6\n",
    "nM = 2\n",
    "\n",
    "# Wall Properties\n",
    "A = 1.              # m^2, wall area\n",
    "\n",
    "# Brick\n",
    "dx_brick = 0.075\n",
    "cp_brick = 900.\n",
    "rho_brick = 1920.\n",
    "k_brick = 1.\n",
    "\n",
    "# Air Gap\n",
    "R_gap = 0.17        # m^2K/W\n",
    "\n",
    "# Plywood\n",
    "dx_ply = 0.015\n",
    "cp_ply = 2500.\n",
    "rho_ply = 650.\n",
    "k_ply = 0.13\n",
    "\n",
    "# Fiberglass (negligeable capacitance)\n",
    "dx_fiber = 0.150\n",
    "k_fiber = 0.04\n",
    "\n",
    "# Gypsumboard\n",
    "dx_gypsum = 0.015\n",
    "cp_gypsum = 1090.\n",
    "rho_gypsum = 2300.\n",
    "k_gypsum = 0.17\n",
    "\n",
    "# Boundaries\n",
    "h_conv_int = 10. # W/m^2K, convective heat transfer coefficient\n",
    "T_int = 20.      # °C\n",
    "h_conv_ext = 30. # W/m^2K, convective heat transfer coefficient\n",
    "T_ext = -20.     # °C"
   ]
  },
  {
   "cell_type": "markdown",
   "metadata": {},
   "source": [
    "### Simulation Parameters"
   ]
  },
  {
   "cell_type": "code",
   "execution_count": 48,
   "metadata": {
    "collapsed": false
   },
   "outputs": [],
   "source": [
    "st = 20         # steps per hour\n",
    "H = 24          # hr; number of hours simulated\n",
    "nt = int(st*H)  # number of timesteps-1\n",
    "dt = 3600/st    # s (3600 sec = 1 hour), timestep"
   ]
  },
  {
   "cell_type": "markdown",
   "metadata": {},
   "source": [
    "### Nodal Connections\n",
    "This is what differenciates the models from one another: how are the nodes connected to each other? What is the conductance in between? How much thermal capacitance do the nodes have?"
   ]
  },
  {
   "cell_type": "code",
   "execution_count": 49,
   "metadata": {
    "collapsed": false
   },
   "outputs": [],
   "source": [
    "# Declare variables\n",
    "Uin = np.zeros((nN,nN))     # K/W\n",
    "F = np.zeros((nN,nM))       # K/W\n",
    "C = np.zeros((nN,1))        # J/K\n",
    "\n",
    "# How are the nodes connected?\n",
    "Uin[0,1] = (dx_brick/(k_brick*A))**-1   # brick\n",
    "Uin[1,2] = (R_gap/A)**-1                # air gap\n",
    "Uin[2,3] = (dx_ply/(k_ply*A))**-1       # plywood\n",
    "Uin[3,4] = (dx_fiber/(k_fiber*A))**-1   # fiberglass\n",
    "Uin[4,5] = (dx_gypsum/(k_gypsum*A))**-1 # gypsumboard\n",
    "\n",
    "# Connected to temperature sources\n",
    "F[0,0] = (1/(h_conv_ext*A))**-1         # brick to exterior air\n",
    "F[-1,1] = (1/(h_conv_int*A))**-1        # gypsum to interior air\n",
    "\n",
    "# Nodes with capacitance: rho*cp*volume\n",
    "C[0] = rho_brick*cp_brick*(dx_brick/2*A)    # half brick\n",
    "C[1] = rho_brick*cp_brick*(dx_brick/2*A)    # half brick\n",
    "C[2] = rho_ply*cp_ply*(dx_ply/2*A)          # half plywood\n",
    "C[3] = rho_ply*cp_ply*(dx_ply/2*A)          # half plywood, fiberglass has negligible capacitance\n",
    "C[4] = rho_gypsum*cp_gypsum*(dx_gypsum/2*A) # half gypsum\n",
    "C[5] = rho_gypsum*cp_gypsum*(dx_gypsum/2*A) # half gypsum"
   ]
  },
  {
   "cell_type": "markdown",
   "metadata": {},
   "source": [
    "### Temperatures and Known Temperatures"
   ]
  },
  {
   "cell_type": "code",
   "execution_count": 50,
   "metadata": {
    "collapsed": false
   },
   "outputs": [],
   "source": [
    "# Declare variables\n",
    "T = np.zeros((nt, nN))    # degC\n",
    "TK = np.zeros((nt, nM))   # degC\n",
    "\n",
    "# Known temperature sources\n",
    "TK[:, 0] = T_ext          # exterior temperature\n",
    "TK[:, 1] = T_int          # interior temperature"
   ]
  },
  {
   "cell_type": "code",
   "execution_count": 51,
   "metadata": {
    "collapsed": false
   },
   "outputs": [
    {
     "data": {
      "image/png": "[encoded data removed]",
      "text/plain": [
       "<matplotlib.figure.Figure at 0x7f13a2525cd0>"
      ]
     },
     "metadata": {},
     "output_type": "display_data"
    }
   ],
   "source": [
    "# Plot known temperature sources\n",
    "fig = plt.figure()\n",
    "plt.plot(TK)\n",
    "labels = ['TK' + str(n) for n in range(nM)]\n",
    "plt.legend(labels,loc='best', fontsize='medium')\n",
    "plt.ylim((-25, 25))\n",
    "plt.xlabel('Timestep')\n",
    "plt.ylabel('Temperature, degC')\n",
    "plt.title('Known (Set) Temperature Sources')\n",
    "plt.grid()\n",
    "plt.show()"
   ]
  },
  {
   "cell_type": "markdown",
   "metadata": {},
   "source": [
    "### Initial Conditions"
   ]
  },
  {
   "cell_type": "code",
   "execution_count": 52,
   "metadata": {
    "collapsed": true
   },
   "outputs": [],
   "source": [
    "T[0,] = 20.      # all temperatures set to 20 degC"
   ]
  },
  {
   "cell_type": "markdown",
   "metadata": {},
   "source": [
    "------------\n",
    "## Run Simulation (Implicit Scheme)\n",
    "Ideally, we should be able to reuse this part of the code applying only minimal changes. For cases where materials properties change over time or due to temperature, or when controls are present, the U-matrix completion should be done within the Main Loop."
   ]
  },
  {
   "cell_type": "markdown",
   "metadata": {},
   "source": [
    "### U-matrix completion"
   ]
  },
  {
   "cell_type": "code",
   "execution_count": 53,
   "metadata": {
    "collapsed": false
   },
   "outputs": [],
   "source": [
    "# Here, we complete the connections due to symmetry \n",
    "# Node 0 is connected to node 1; also, node 1 is connected to node 0.\n",
    "U = -Uin - Uin.T  # U is symmetrical, non-diagonals are -ve\n",
    "s = -np.sum(U,1)\n",
    "for i in range(0,nN):\n",
    "    U[i,i] = s[i] + np.sum(F[i,]) + C[i]/dt\n",
    "del s"
   ]
  },
  {
   "cell_type": "markdown",
   "metadata": {},
   "source": [
    "### Main Loop"
   ]
  },
  {
   "cell_type": "code",
   "execution_count": 54,
   "metadata": {
    "collapsed": false
   },
   "outputs": [],
   "source": [
    "# Loop for all timesteps\n",
    "for t in range(0,nt-1):\n",
    "\n",
    "    # Heat flow into the node, external sources\n",
    "    Qin = np.zeros((nN,1))\n",
    "    # Qin[0] = q_in # add heat sources here\n",
    "\n",
    "    # Q-vector: Q = Qin + F*TM(t) + C/dt*T(t)\n",
    "    Q = Qin + np.reshape(np.dot(F, TK[t,]),(nN,1)) + \\\n",
    "        np.multiply(C/dt, np.reshape(T[t,],(nN,1)))\n",
    "\n",
    "    # Compute temperature\n",
    "    # This is where the magic happens. For a system where nothing changes \n",
    "    # (no controls, no moveable blinds, no PCM; we need only define the \n",
    "    # U-matrix once (done above) and use it here)\n",
    "    T[t+1,] = np.linalg.solve(U, Q).T"
   ]
  },
  {
   "cell_type": "markdown",
   "metadata": {},
   "source": [
    "### Plotting"
   ]
  },
  {
   "cell_type": "code",
   "execution_count": 55,
   "metadata": {
    "collapsed": false,
    "scrolled": true
   },
   "outputs": [
    {
     "data": {
      "image/png": "[encoded data removed]",
      "text/plain": [
       "<matplotlib.figure.Figure at 0x7f13a24c1050>"
      ]
     },
     "metadata": {},
     "output_type": "display_data"
    }
   ],
   "source": [
    "fig = plt.figure()\n",
    "plt.plot(T)\n",
    "plt.hold(True)\n",
    "plt.plot(TK, '--')\n",
    "labels = ['T' + str(n) for n in range(nN)] + ['TK' + str(m) for m in range(nM)]\n",
    "plt.legend(labels,loc='best', fontsize='medium')\n",
    "plt.ylim((-25, 25))\n",
    "plt.xlabel('Timestep')\n",
    "plt.ylabel('Temperature, degC')\n",
    "plt.title('Temperature variation across wall')\n",
    "plt.grid()\n",
    "plt.show()"
   ]
  },
  {
   "cell_type": "markdown",
   "metadata": {},
   "source": [
    "### Heat Loss through Wall"
   ]
  },
  {
   "cell_type": "code",
   "execution_count": 56,
   "metadata": {
    "collapsed": false
   },
   "outputs": [
    {
     "name": "stdout",
     "output_type": "stream",
     "text": [
      "Heat gain or lost through the wall: -9.45 W/m^2\n"
     ]
    }
   ],
   "source": [
    "# Assuming the process has reached steady state conditions at the end of the simulation\n",
    "# we would like to determine the heat loss through the wall.\n",
    "Q_lost = F[0,0]*(T_ext-T[-1,0])\n",
    "print \"Heat gain or lost through the wall: %.2f W/m^2\" % (Q_lost/A)"
   ]
  },
  {
   "cell_type": "markdown",
   "metadata": {},
   "source": [
    "------------\n",
    "## Run Simulation (Explicit Scheme)"
   ]
  },
  {
   "cell_type": "code",
   "execution_count": 57,
   "metadata": {
    "collapsed": false
   },
   "outputs": [],
   "source": [
    "# Declare variables\n",
    "Te = np.zeros((nt,nN))  # degC, temperatures for explicit mode\n",
    "Te[0,] = T[0,]          # initial condition set to be the same as implicit case\n",
    "\n",
    "# RHS matrix\n",
    "Ue = Uin + Uin.T\n",
    "s = -np.sum(Ue,1)\n",
    "for i in range(0,nN):\n",
    "    Ue[i,i] = s[i] - np.sum(F[i,]) + C[i]/dt\n",
    "del s\n",
    "Und = Uin + Uin.T       # Without the diagonals"
   ]
  },
  {
   "cell_type": "markdown",
   "metadata": {},
   "source": [
    "### Main Loop"
   ]
  },
  {
   "cell_type": "code",
   "execution_count": 58,
   "metadata": {
    "collapsed": false
   },
   "outputs": [],
   "source": [
    "# Loop for all timesteps in a day\n",
    "for t in range(0,nt-1):\n",
    "\n",
    "    # Heat flow into the node\n",
    "    Qin = np.zeros((nN,1))\n",
    "    # Qin[0] = q_in # add heat sources here\n",
    "\n",
    "    # Q-vector (explicit): Q = Qin + F*TM(t)\n",
    "    Q = Qin + np.reshape(np.dot(F, TK[t,]),(nN,1))\n",
    "\n",
    "    # Compute temperature\n",
    "    # This is where the magic happens. Prepare to be amazed!\n",
    "    for c in range(nN):\n",
    "\n",
    "        # Nodes with capacitance (diffusion nodes)\n",
    "        if (C[c] != 0.):\n",
    "            Te[t+1,c] = dt/C[c] * (np.dot(Ue[c,],Te[t,]) + Q[c])\n",
    "\n",
    "        # Nodes without capacitance (arithmetic nodes)\n",
    "        else:\n",
    "            Te[t+1,c] = (np.dot(Und[c,],Te[t,]) + np.dot(F[c,],TK[t,]) + Qin[c]) \\\n",
    "                        / (np.sum(Und[c,]) + np.sum(F[c,]))"
   ]
  },
  {
   "cell_type": "markdown",
   "metadata": {},
   "source": [
    "### Plotting"
   ]
  },
  {
   "cell_type": "code",
   "execution_count": 59,
   "metadata": {
    "collapsed": false,
    "scrolled": true
   },
   "outputs": [
    {
     "data": {
      "image/png": "[encoded data removed]",
      "text/plain": [
       "<matplotlib.figure.Figure at 0x7f13a22c6150>"
      ]
     },
     "metadata": {},
     "output_type": "display_data"
    }
   ],
   "source": [
    "fig = plt.figure()\n",
    "plt.plot(Te)\n",
    "plt.hold(True)\n",
    "plt.plot(TK, '--')\n",
    "labels = ['T' + str(n) for n in range(nN)] + ['TK' + str(m) for m in range(nM)]\n",
    "plt.legend(labels,loc='best', fontsize='medium')\n",
    "plt.ylim((-25, 25))\n",
    "plt.xlabel('Timestep')\n",
    "plt.ylabel('Temperature, degC')\n",
    "plt.title('Temperature variation across wall')\n",
    "plt.grid()\n",
    "plt.show()"
   ]
  }
 ],
 "metadata": {
  "kernelspec": {
   "display_name": "Python 2",
   "language": "python",
   "name": "python2"
  },
  "language_info": {
   "codemirror_mode": {
    "name": "ipython",
    "version": 2
   },
   "file_extension": ".py",
   "mimetype": "text/x-python",
   "name": "python",
   "nbconvert_exporter": "python",
   "pygments_lexer": "ipython2",
   "version": "2.7.11+"
  }
 },
 "nbformat": 4,
 "nbformat_minor": 0
}
